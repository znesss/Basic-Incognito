{
  "nbformat": 4,
  "nbformat_minor": 0,
  "metadata": {
    "colab": {
      "provenance": []
    },
    "kernelspec": {
      "name": "python3",
      "display_name": "Python 3"
    },
    "language_info": {
      "name": "python"
    }
  },
  "cells": [
    {
      "cell_type": "markdown",
      "source": [
        "# **Incognito - Efficient Full-Domain K-Anonymity**"
      ],
      "metadata": {
        "id": "lRS9D2FHEQ6P"
      }
    },
    {
      "cell_type": "code",
      "execution_count": null,
      "metadata": {
        "id": "w24PjG-9ltHn"
      },
      "outputs": [],
      "source": [
        "import pandas as pd\n",
        "from google.colab import files\n",
        "from google.colab import drive\n",
        "from sqlite3 import dbapi2 as sqlite3\n",
        "import matplotlib.pyplot as plt\n",
        "import os\n",
        "from os import path\n",
        "from sympy import subsets\n",
        "import argparse\n",
        "import queue\n",
        "import numpy as np\n",
        "import time"
      ]
    },
    {
      "cell_type": "markdown",
      "source": [
        "<figure>\n",
        "<center>\n",
        "<img src=\"https://i.ibb.co/Yczmkyx/Screenshot-2023-01-02-at-12-56-11.png\" width=\"600\" \n",
        "     height=\"400\"/>\n",
        "<figcaption>Figure 8: Basic Incognito algorithm</figcaption></center>\n",
        "</figure>"
      ],
      "metadata": {
        "id": "8cklcYQ8_FNn"
      }
    },
    {
      "cell_type": "code",
      "source": [
        "drive.mount('/content/drive')"
      ],
      "metadata": {
        "colab": {
          "base_uri": "https://localhost:8080/"
        },
        "id": "gBCq5FP6l1w6",
        "outputId": "b73b6423-8abe-401e-ffd1-04ac814bd7be"
      },
      "execution_count": null,
      "outputs": [
        {
          "output_type": "stream",
          "name": "stdout",
          "text": [
            "Mounted at /content/drive\n"
          ]
        }
      ]
    },
    {
      "cell_type": "markdown",
      "source": [
        "\n",
        "# **Step 1** - Data\n",
        "According to Figure 8, **Inputs** are:\n",
        "* A table T to be k-anonymized \n",
        "* a set Q of n quasi-identifier attributes\n",
        "* and a set of dimension tables (one for each quasi-identifier in Q)"
      ],
      "metadata": {
        "id": "9gdNFs4C_la2"
      }
    },
    {
      "cell_type": "code",
      "source": [
        "print(\"Enter all the Parameters\")\n",
        "#Get paths:\n",
        "datasetPath = input(\"Private Table file Path: \")\n",
        "quasi_identifiers = input(\"QI names in order, separate with COMMA: \")\n",
        "QI_list = list(quasi_identifiers.split(\",\"))\n",
        "dimPath = dict()\n",
        "for i, qi_name in enumerate(QI_list):\n",
        "   dimPath[qi_name] = input(qi_name+ \" Dimension Table file Path: \")\n",
        "K = input(\"K to Anonymize PT with (more than 0 and less than the number of PT rows): \")\n",
        "T = input(\"T to indicate the threshold for suppressing outliers (0 and more, and less than K): \")"
      ],
      "metadata": {
        "id": "iuNcF-8imLrL",
        "colab": {
          "base_uri": "https://localhost:8080/"
        },
        "outputId": "22e96de4-ac6b-4487-f7b5-17b1831bb832"
      },
      "execution_count": null,
      "outputs": [
        {
          "name": "stdout",
          "output_type": "stream",
          "text": [
            "Enter all the Parameters\n",
            "Private Table file Path: /content/drive/MyDrive/Colab Notebooks/DPP/Adults/adults.csv\n",
            "QI names in order, separate with COMMA: age,occupation,race\n",
            "age Dimension Table file Path: /content/drive/MyDrive/Colab Notebooks/DPP/Adults/age.csv\n",
            "occupation Dimension Table file Path: /content/drive/MyDrive/Colab Notebooks/DPP/Adults/occupation.csv\n",
            "race Dimension Table file Path: /content/drive/MyDrive/Colab Notebooks/DPP/Adults/race.csv\n",
            "K to Anonymize PT with (more than 0 and less than the number of PT rows): 9\n",
            "T to indicate the threshold for suppressing outliers (0 and more, and less than K): 3\n"
          ]
        }
      ]
    },
    {
      "cell_type": "code",
      "source": [
        "# Start SQL\n",
        "con = sqlite3.connect(\":memory:\") #We can create a database in memory by using this syntax.\n",
        "cur = con.cursor()"
      ],
      "metadata": {
        "id": "b8vwB1IZtmm_"
      },
      "execution_count": null,
      "outputs": []
    },
    {
      "cell_type": "markdown",
      "source": [
        "## Step 1-1 : Prepare the private table\n",
        "\n",
        "* read the csv file of Dataset\n",
        "* make a SQL table"
      ],
      "metadata": {
        "id": "zXlWQPCyAETs"
      }
    },
    {
      "cell_type": "code",
      "source": [
        "# Read dataset and its attributes:\n",
        "dataset_file = open(datasetPath)\n",
        "datasetName = path.basename(datasetPath).split(\".\")[0]\n",
        "\n",
        "attributeList = dataset_file.readline().split(\",\")\n",
        "attributespace = [a.strip() for a in attributeList] #remove white spaces\n",
        "attributeNames = [a.replace(\"-\", \"_\").replace(\"\\n\",\"\") for a in attributespace]\n",
        "\n",
        "dataset = pd.read_csv(datasetPath, sep=',', skipinitialspace = True)\n",
        "for attr in attributespace:\n",
        "  proc_attr = attr.strip().replace(\"-\", \"_\").replace(\"\\n\",\"\") #remove white spaces\n",
        "  dataset = dataset.rename(columns={attr: proc_attr})\n",
        "\n",
        "dataset = dataset.astype(str)\n",
        "dataset[attributeNames[:-1]] = dataset[attributeNames[:-1]].replace('-', '_', regex=True) #for Adults only\n",
        "\n",
        "# Make a sql table from dataframe:\n",
        "attributeNamesSQL = [a + \" TEXT\" for a in attributeNames]\n",
        "dataset.to_sql(datasetName, con, if_exists='append', index = False)\n",
        "\n",
        "#print(attributeNamesSQL)\n",
        "#attributeNames = ['id', 'age', 'city_birth', 'zip_code', 'disease'] Adults = ['age', 'workclass', 'fnlwgt', 'education', 'education_num',...]"
      ],
      "metadata": {
        "id": "T0bTzfJ_vWjL"
      },
      "execution_count": null,
      "outputs": []
    },
    {
      "cell_type": "markdown",
      "source": [
        "\n",
        "## Step 1-2 : Prepare the dimensions\n",
        "* read the csv file of each dimension previously determined by Quasi-identifiers names \n",
        "* each table has all the 0th level of hierarchy in first column with the header 0, 1st in second column with header 1, and so on...\n",
        "* make a SQL table for each"
      ],
      "metadata": {
        "id": "mMc9qMaOAS2s"
      }
    },
    {
      "cell_type": "code",
      "source": [
        "# For each QI in DimensionNames make a table\"\n",
        "QILevels = list()\n",
        "for qi_name in QI_list:\n",
        "# for a single dimension file read from user (ex: age.csv)\n",
        "    dimension_file_i = open(dimPath[qi_name])\n",
        "    dimName_i = path.basename(dimPath[qi_name]).split(\".\")[0]\n",
        "    print(\"Generalization file name for Quasi Identifier \", qi_name, \" is \", dimName_i)\n",
        "\n",
        "    QILevels_i = len(dimension_file_i.readline().split(\",\"))\n",
        "\n",
        "    # if  dimName_i == \"city_birth_generalization\":\n",
        "    #     del(dim_i[QILevels_i-1])\n",
        "    #     QILevels_i = len(dimension_file_i.readline().split(\",\"))-1 #QILevels = [4, 3, 6]\n",
        "\n",
        "    QILevels.append(QILevels_i) \n",
        "    dim_i = pd.read_csv(dimension_file_i, sep=\",\" , header = None) #dimension is now panda dataframe\n",
        "\n",
        "    dim_i.loc[:,0] = dim_i.loc[:,0].astype('string')\n",
        "\n",
        "    # Make a SQL table for the corresponding dimension file :\n",
        "    dim_i.to_sql(\"gen_of_\"+qi_name, con, if_exists='append', index = False)\n",
        "    print(\"And its dimension SQL file name is \", \"gen_of_\"+qi_name) \n",
        "\n",
        "print(\"Generalization Levels: \",QILevels)\n"
      ],
      "metadata": {
        "colab": {
          "base_uri": "https://localhost:8080/"
        },
        "id": "VajSPcpO1Ffm",
        "outputId": "d68a373c-f6be-4ae0-85ed-a7faa8c1c98d"
      },
      "execution_count": null,
      "outputs": [
        {
          "output_type": "stream",
          "name": "stdout",
          "text": [
            "Generalization file name for Quasi Identifier  age  is  age\n",
            "And its dimension SQL file name is  gen_of_age\n",
            "Generalization file name for Quasi Identifier  occupation  is  occupation\n",
            "And its dimension SQL file name is  gen_of_occupation\n",
            "Generalization file name for Quasi Identifier  race  is  race\n",
            "And its dimension SQL file name is  gen_of_race\n",
            "Generalization Levels:  [4, 3, 2]\n"
          ]
        }
      ]
    },
    {
      "cell_type": "markdown",
      "source": [
        "## Step 1-3 : Control input\n",
        "\n",
        "Control if the user entered correct K and Threshold."
      ],
      "metadata": {
        "id": "j5mnfUFKAkYS"
      }
    },
    {
      "cell_type": "code",
      "source": [
        "cur.execute(\"SELECT * FROM \" + datasetName)\n",
        "k = int(K)\n",
        "t = int(T)\n",
        "if k > len(list(cur)):\n",
        "    print(\"K should not exceed the number of rows in PT\")\n",
        "    exit(0)\n",
        "if t >= k:\n",
        "    print(\"Threshold should not exceed K\")\n",
        "    exit(0)"
      ],
      "metadata": {
        "id": "x940pZrD7Ggo"
      },
      "execution_count": null,
      "outputs": []
    },
    {
      "cell_type": "markdown",
      "source": [
        "\n",
        "# **Step 2** : Iteration\n",
        "Iterate and perform main PARTS of Figure 8: Basic Incognito algorithm\n",
        " \n",
        "<figure>\n",
        "<center>\n",
        "<img src='https://i.ibb.co/j3b23r7/Screenshot-2023-01-02-at-14-49-26.png' width=\"400\" \n",
        "     height=\"300\"/>\n",
        "<figcaption>Loop with two parts</figcaption></center>\n",
        "</figure>"
      ],
      "metadata": {
        "id": "wAXMchk6At5J"
      }
    },
    {
      "cell_type": "markdown",
      "source": [
        "## Step 2-1 : Initialization\n",
        "\n",
        "According to Figure 8, Initialize the Graph elements\n",
        "\n",
        "* C1 = {Nodes in the domain generalization hierarchies of attributes in Q}\n",
        "* E1 = {Edges in the domain generalization hierarchies of attributes in Q}\n",
        "\n",
        "used to insert the tuple:    #https://stackoverflow.com/questions/17530783/python-inserting-list-of-tuples-in-sql-database-and-add-an-auto-incrementing-id\n",
        "\n",
        "<figure>\n",
        "<center>\n",
        "<img src=\"https://i.ibb.co/f2wN52Q/Screenshot-2023-01-02-at-17-49-51.png\" width=\"400\" \n",
        "     height=\"150\"/>\n",
        "<figcaption>Figure 6: Representation of sample generalization lattice</figcaption></center>\n",
        "</figure>\n",
        "<figure>\n",
        "<center>\n",
        "<img src=\"https://i.ibb.co/PxKhcT3/Screenshot-2023-01-03-at-13-09-56.png\" width=\"350\" \n",
        "     height=\"100\"/>\n",
        "<figcaption>How</figcaption></center>"
      ],
      "metadata": {
        "id": "EX7JxeIXBofT"
      }
    },
    {
      "cell_type": "code",
      "source": [
        "# Initialize the SQL table C1, E1:\n",
        "def initialization(QI_list, QILevels):\n",
        "        \n",
        "      print(\"The graph (C and Edges) with nodes of 1 QI is being generated using SQL tables...\")\n",
        "      cur.execute(\"CREATE TABLE IF NOT EXISTS C1 (ID INTEGER PRIMARY KEY, dim1 TEXT, index1 INT, parent1 INT, parent2 INT)\")\n",
        "      cur.execute(\"CREATE TABLE IF NOT EXISTS E1 (Start INT, End INT)\")\n",
        "      #Generate graph for 1 quasi-identifiers set\n",
        "\n",
        "      ID = 1 #unique for each node\n",
        "      for dimnum, dim in enumerate(QI_list): #for each QI: age for now:\n",
        "        index = 0 #each dimension can have multiple level index starting from 0.\n",
        "        for i in range (QILevels[dimnum]):  # for all the levels (4 levels for age)\n",
        "          parent1 = ID-1 if index > 0 else \"null\"\n",
        "          parent2 = \"null\"\n",
        "          var = (ID, dim, index, parent1, parent2)\n",
        "          cur.execute(\"INSERT INTO C1 values (?, ?, ?, ?, ?)\", var) #Nodes\n",
        "          if index >= 1:\n",
        "              var = (ID - 1, ID)\n",
        "              cur.execute(\"INSERT INTO E1 values (?, ?)\", var) #Edges\n",
        "          ID += 1\n",
        "          index += 1\n",
        "      print(\"Done!\")\n",
        "      print(list(cur.execute(\"SELECT * FROM C1\"))) #[(1, 'age', 0, 'null', 'null'), (2, 'age', 1, 0, 'null'), (3, 'age', 2, 1, 0), (4, 'age', 3, 2, 1),..........]\n",
        "      print(list(cur.execute(\"SELECT * FROM E1\"))) #[(1, 2), (2, 3), (3, 4), (5, 6), (6, 7), (7, 8), (9, 10), (10, 11), (11, 12), (12, 13), (13, 14)]"
      ],
      "metadata": {
        "id": "YvdyJE0IEwC5"
      },
      "execution_count": null,
      "outputs": []
    },
    {
      "cell_type": "markdown",
      "source": [
        "\n",
        "## Step 2-2 : Tools for Part 1\n",
        "But we need some tools first:\n",
        "\n",
        "* A function to compute each node's height.\n",
        "* A function to compute frequency set of T with respect to attributes of node using T.\n",
        "* A function to compute frequency set of T with respect to attributes of node using parent’s frequency set.\n",
        "* Check k-anonymity with respect to attributes of node (input:frequencySet)"
      ],
      "metadata": {
        "id": "seGR7QJlA68z"
      }
    },
    {
      "cell_type": "markdown",
      "source": [
        "###Step 2-2-1 : node's height:\n",
        "* height is sum of the indices in a row (node)\n",
        "<figure>\n",
        "<center>\n",
        "<img src=\"https://i.ibb.co/wp0gHNc/Screenshot-2023-01-20-at-18-40-19.png\" width=\"400\" \n",
        "     height=\"150\"/>\n",
        "<figcaption>How</figcaption></center>"
      ],
      "metadata": {
        "id": "pLp-Zt32Be4k"
      }
    },
    {
      "cell_type": "code",
      "source": [
        "def node_height(node): # dims are: 2,4,6 TO len-3 -> P1,P2 excluded\n",
        "    height = 0\n",
        "    for j in range (2, len(node) -3, 2):\n",
        "        height += node[j]\n",
        "    return height"
      ],
      "metadata": {
        "id": "K5wVpEDmGfmN"
      },
      "execution_count": null,
      "outputs": []
    },
    {
      "cell_type": "markdown",
      "source": [
        "###Step 2-2-2 : root frequencies\n",
        "\n",
        "A function to compute frequency set of T with respect to attributes of node using T.\n",
        "\n",
        "In SQL, the frequency set is obtained from T with respect to a set of attributes Q by issuing a COUNT(*) query, with Q as the attribute list in the GROUP BY clause. For example, in order to check whether the Patients table in Figure 1 is 2-anonymous with respect to ⟨Sex, Zipcode⟩, we issue a query SELECT COUNT(*) FROM Patients GROUP BY Sex, Zipcode. Since the result includes groups with count fewer than 2, Patients is not 2-anonymous with respect to ⟨Sex, Zipcode⟩."
      ],
      "metadata": {
        "id": "1lb2ZckICXvT"
      }
    },
    {
      "cell_type": "code",
      "source": [
        "def freq_set_root(node):\n",
        "\n",
        "    #get the \"attributes of node\"\n",
        "    node_attrs = set() # ex: {'age', 'zip_code'}\n",
        "    node_dimIndexTuples = list() # ex: [('age', 1),('zip_code', 0)]\n",
        "    for i in range(len(node)-2):\n",
        "      if i%2 == 1 and node[i] != 'null':\n",
        "        node_attrs.add(node[i])\n",
        "        node_dimIndexTuples.append((node[i],node[i+1])) \n",
        "    # ex: with [('age', 1), ('zip_code', 0)]\n",
        "    # From PT, get the number of records that have level of generalization 1(index) for age(dim), and 0 for zip_code\n",
        "    # I don't need to have a for loop for all the records, SQL COUNT does it for me.\n",
        "    # ex: COUNT the number of occurances in db_100 and all dimension tables,\n",
        "    #     WHERE the first attribute value of db_100 (ex: db_100.zip_code) is equal to\n",
        "    #     the value in the \"node's zip_code index: 0\" column of corresponding dimension table (zip_code.\"0\")\n",
        "    #     AND the second ......\n",
        "    #     Then GROUP BY all the attributes of node\n",
        "    # SELECT COUNT(*) FROM db_100, age, .... WHERE db_100.age = age.\"1\" GROUP BY age.\"1\"\n",
        "    dim_Names = list()\n",
        "    WHERE = list()\n",
        "    GROUP_BY = set(node_attrs)\n",
        "    for i in range(len(node_dimIndexTuples)): #Take one tuple at a time to form the Query\n",
        "\n",
        "        col_in_dataset = node_dimIndexTuples[i][0]\n",
        "        node_ith_index = node_dimIndexTuples[i][1]\n",
        "        if node_dimIndexTuples[i][0] == \"null\" or node_dimIndexTuples[i][1] == \"null\":\n",
        "           continue\n",
        "        if col_in_dataset in node_attrs:\n",
        "            GROUP_BY.remove(col_in_dataset)\n",
        "            GROUP_BY.add(\"gen_of_\"+col_in_dataset + \".\\\"\" + str(node_ith_index) + \"\\\"\")\n",
        "        dim_Names.append(\"gen_of_\"+col_in_dataset) #list of dimension tables to be joined together\n",
        "        WHERE_of_tuple = \"\" + datasetName + \".\" + col_in_dataset + \" = \" + \"gen_of_\"+col_in_dataset + \".\\\"0\\\"\" \n",
        "        WHERE.append(WHERE_of_tuple) #['db_100.age = age.\"0\"' , ...]\n",
        "\n",
        "    #execute the formed query:\n",
        "    #column 0 of dimension table is enough Because we are calculating a root's freq\n",
        "    cur.execute(\"SELECT COUNT(*) FROM \" + datasetName + \", \" + ', '.join(dim_Names) +\n",
        "                \" WHERE \" + 'and '.join(WHERE) +\n",
        "                \" GROUP BY \" + ', '.join(GROUP_BY))\n",
        "    \n",
        "    # make the frequency set:\n",
        "    freq_set = list()\n",
        "    for occur in list(cur):\n",
        "        freq_set.append(occur[0]) # (3,)\n",
        "    return freq_set\n",
        "\n",
        "# node_attrs: ['age']\n",
        "# WHERE: ['db_100.age = age.\"0\"' , ...]\n",
        "# SELECT COUNT(*) FROM db_100, age WHERE db_100.age = age.\"0\" GROUP BY age.\"0\""
      ],
      "metadata": {
        "id": "PNS9yq-_t3wq"
      },
      "execution_count": null,
      "outputs": []
    },
    {
      "cell_type": "markdown",
      "source": [
        "###Step 2-2-3 : non-root frequencies\n",
        "\n",
        "A function to compute frequency set of T with respect to attributes of node using parent’s frequency set."
      ],
      "metadata": {
        "id": "z6QeKFTuDtrS"
      }
    },
    {
      "cell_type": "code",
      "source": [
        "def freq_set_nonroot(node):\n",
        "    #print(\"node nonroot\", node)\n",
        "    #get the \"attributes of node\"\n",
        "    node_attrs = set() # ex: {'age', 'zip_code'}\n",
        "    node_dimIndexTuples = list() # ex: [('age', 1),('zip_code', 0)]\n",
        "    for i in range(len(node)-2):\n",
        "      if i%2 == 1 and node[i] != 'null':\n",
        "        node_attrs.add(node[i])\n",
        "        node_dimIndexTuples.append((node[i],node[i+1])) \n",
        "\n",
        "    dim_Names = list() \n",
        "    SELECT = list()\n",
        "    WHERE = list() \n",
        "    GROUP_BY = set(node_attrs)\n",
        "\n",
        "    cur.execute(\"CREATE TABLE CountOfNode (count INT, \" + ', '.join(node_attrs) + \")\")\n",
        "\n",
        "    for i in range(len(node_dimIndexTuples)):#Take one tuple at a time to form the Query\n",
        "\n",
        "        col_in_dataset = node_dimIndexTuples[i][0]\n",
        "        node_ith_index = node_dimIndexTuples[i][1]\n",
        "\n",
        "        if col_in_dataset in node_attrs: #<<<HELP>>>\n",
        "            GROUP_BY.remove(col_in_dataset)\n",
        "            GROUP_BY.add(\"gen_of_\"+col_in_dataset + \".\\\"\" + str(node_ith_index) + \"\\\"\")    \n",
        "        dim_Names.append(\"gen_of_\"+col_in_dataset) #list of dimension tables to be joined together\n",
        "        WHERE_of_tuple = \"\" + datasetName + \".\" + col_in_dataset + \" = \" + \"gen_of_\"+col_in_dataset + \".\\\"0\\\"\" \n",
        "        WHERE.append(WHERE_of_tuple) #['db_100.age = age.\"0\"' , ...]\n",
        "        #column \"node's attribute's index\" of dimension table should be selected:\n",
        "        SELECT_of_tuple = \"gen_of_\"+col_in_dataset + \".\\\"\" + str(node_ith_index) + \"\\\" AS \" + col_in_dataset\n",
        "        SELECT.append(SELECT_of_tuple) #['age.\"1\" AS age' , ...]\n",
        "\n",
        "    cur.execute(\"INSERT INTO CountOfNode\"\n",
        "                   \" SELECT COUNT(*) AS count, \" + ', '.join(SELECT) +\n",
        "                   \" FROM \" + datasetName + \", \" + ', '.join(dim_Names) +\n",
        "                   \" WHERE \" + 'AND '.join(WHERE) +\n",
        "                   \" GROUP BY \" + ', '.join(GROUP_BY))\n",
        "    \n",
        "    cur.execute(\"SELECT SUM(count) FROM CountOfNode GROUP BY \" + ', '.join(node_attrs))\n",
        "    results = list(cur)\n",
        "\n",
        "    # make the frequency set:\n",
        "    freq_set = list()\n",
        "    for occur in results:\n",
        "        freq_set.append(occur[0]) # (3,)\n",
        "\n",
        "    # erase for next loop:    \n",
        "    cur.execute(\"DROP TABLE CountOfNode\")\n",
        "    return freq_set"
      ],
      "metadata": {
        "id": "yavBVPH_z8E-"
      },
      "execution_count": null,
      "outputs": []
    },
    {
      "cell_type": "markdown",
      "source": [
        "###Step 2-2-4 : K-Anonymity Check\n",
        "\n",
        "Use frequencySet to check k-anonymity with respect to attributes of node."
      ],
      "metadata": {
        "id": "WihYQLsqEClo"
      }
    },
    {
      "cell_type": "code",
      "source": [
        "def kAnonymity_wrt_node_attr(freq_set): # <<<HELP>>>\n",
        "  if len(freq_set) == 0:\n",
        "      return False\n",
        "  for freq in freq_set:\n",
        "      if type(freq) == tuple:\n",
        "          freq = freq[0]\n",
        "      if freq<k and freq>t: # in case it is =< t, the anonymity is not false, instead, it should be removed later\n",
        "          return False # PT is not anonymous wrt this node, otherwise, still check other freqs\n",
        "  return True"
      ],
      "metadata": {
        "id": "MbgOSSeg6VTL"
      },
      "execution_count": null,
      "outputs": []
    },
    {
      "cell_type": "markdown",
      "source": [
        "##Step 2-3 :  Part 2\n",
        "\n",
        "Implement the part 2 of Basic Incognito which is mentioned in Figure 8 as \"Ci+1,Ei+1 = GraphGeneration(Si, Ei)\"\n",
        "\n",
        "And is explained below in 2 PHASES:\n",
        "\n",
        "<table align = \"ceter\">\n",
        "        <tr>\n",
        "            <td rowspan=\"2\"><figure><center><img src=\"https://i.ibb.co/0Y8yW34/Screenshot-2023-01-03-at-12-43-20.png\" width=\"450\" height=\"380\"/><figcaption>Phase 1</figcaption></center>\n",
        "</figure></td>\n",
        "            <td><figure><center><img src=\"https://i.ibb.co/fGqK40K/Screenshot-2023-01-03-at-12-43-52.png\" width=\"450\" height=\"70\"/></center>\n",
        "</figure></td>\n",
        "        </tr>\n",
        "        <tr>\n",
        "            <td><figure><center><img src=\"https://i.ibb.co/0frjTR4/Screenshot-2023-01-03-at-12-44-13.png\"  width=\"450\" height=\"400\"/><figcaption>Phase 2</figcaption></center>\n",
        "</figure></td>\n",
        "        </tr>\n",
        "</table>"
      ],
      "metadata": {
        "id": "BO7BMwu6EbpI"
      }
    },
    {
      "cell_type": "code",
      "source": [
        "def graph_generation(Si, I): \n",
        "    i = str(I)\n",
        "    iplus = str(I+1)\n",
        "    # Get info of Ci (to make Si's table and Ci+1 from it):\n",
        "    col = list()\n",
        "    cur.execute(\"PRAGMA table_info(C\" + i + \")\")\n",
        "    cols_Graph = list(cur)\n",
        "    for info in cols_Graph: #in colNames_Graph we have a list of items like:  [(3, 'parent1', 'TEXT', 0, None, 0) ,..]\n",
        "        if info[1] == \"ID\": #info[1] is the name of column and info[2] is the type of column\n",
        "            col.append(\"ID INTEGER PRIMARY KEY\") \n",
        "        else:\n",
        "            col.append(str(info[1]) + \" \" + str(info[2])) # ex: parent1 TEXT\n",
        "\n",
        "    # Make a Si SQL table from Si set(refined Ci) with info of Ci, to use in the Basic Incognito Part 1\n",
        "    cur.execute(\"CREATE TABLE IF NOT EXISTS S\" + i + \" (\" + ', '.join(col) + \")\")\n",
        "    unknownVars = \", \".join(['?'] * len(cols_Graph))\n",
        "    # Si's SQL table is ready:\n",
        "    cur.executemany(\"INSERT INTO S\" + i + \" values (\" + unknownVars + \")\", Si)\n",
        "\n",
        "    # Let's make Ci+1 and Ei+1 out of Si\n",
        "    if I == len(QI_list): #do not make Ci+1 and Ei+1 for the last QI since Si is enough\n",
        "        return\n",
        "    print(\"The graph (C and Edges) with nodes of \", iplus, \" QIs is being generated using SQL tables...\")\n",
        "    # Make Ci+1 columns: #https://www.sqlite.org/lang_altertable.html\n",
        "    cur.execute(\"CREATE TABLE IF NOT EXISTS C\" + iplus + \" (\" + ', '.join(col[0:len(col)-2]) + \")\") #columns except parents\n",
        "    cur.execute(\"ALTER TABLE C\" + iplus + \" ADD COLUMN dim\" + iplus + \" TEXT\") #add new column dim\n",
        "    cur.execute(\"ALTER TABLE C\" + iplus + \" ADD COLUMN index\" + iplus + \" INT\") #add new column index\n",
        "    cur.execute(\"ALTER TABLE C\" + iplus + \" ADD COLUMN parent1 INT\") #add parent1\n",
        "    cur.execute(\"ALTER TABLE C\" + iplus + \" ADD COLUMN parent2 INT\") #add parent2\n",
        "    cur.execute(\"UPDATE C\" + iplus + \" SET dim\" + iplus + \" = 'null', index\" + iplus + \"= 'null' WHERE index\" + iplus + \" is null\") #make null\n",
        "\n",
        "    # JOIN phase # FROM two Sis\n",
        "    # Add info to Ci+1:\n",
        "    SELECT = \"\"\n",
        "    WHERE = \"\"\n",
        "    # For all the other dim indices in Si we had previously, I add them to Ci+1\n",
        "    for J in range(2, I+1):\n",
        "        j = str(J)\n",
        "        if J == I:\n",
        "            SELECT += \", p.dim\" + j + \", p.index\" + j + \", q.dim\" + j + \", q.index\" + j\n",
        "            WHERE += \" and p.dim\" + j + \"<q.dim\" + j\n",
        "        else:\n",
        "            SELECT += \", p.dim\" + j + \", p.index\" + j\n",
        "            WHERE += \" and p.dim\" + j + \"=q.dim\" + j + \" and p.index\" + j + \"=q.index\" + j\n",
        "            \n",
        "    if I > 1:\n",
        "        cur.execute(\"INSERT INTO C\" + iplus +\n",
        "                    \" SELECT null, p.dim1, p.index1\" + SELECT + \" , p.ID, q.ID\"\n",
        "                    \" FROM S\" + i + \" p, S\" + i +\n",
        "                    \" q WHERE p.dim1 = q.dim1 and p.index1 = q.index1 \" + WHERE)\n",
        "    else:\n",
        "        cur.execute(\"INSERT INTO C\" + iplus +\n",
        "                    \" SELECT null, p.dim1, p.index1, q.dim1, q.index1, p.ID, q.ID\"\n",
        "                    \" FROM S\" + i + \" p, S\" + i +\n",
        "                    \" q WHERE p.dim1<q.dim1\")\n",
        "    \n",
        "    # PRUNE phase... paper [2]    <<<HELP>>>\n",
        "    Si_subsets = set() #all Si's node's (dim,index) tuples. ex:{(('s', 0), ('z', 1)), (('s', 1), ('z', 0),..\n",
        "    cur.execute(\"SELECT * FROM S\" + i)\n",
        "    Si_graph = set(cur)\n",
        "    for s in Si_graph:\n",
        "        #get the \"attributes of s\"\n",
        "        Si_dimIndexTuples = list() # ex: [('age', 1),('zip_code', 0)]\n",
        "        for a in range(len(s)-2):\n",
        "          if a%2 == 1 and s[a] != 'null':\n",
        "            Si_dimIndexTuples.append((s[a],s[a+1])) \n",
        "        Si_subsets.add(tuple(Si_dimIndexTuples))\n",
        "\n",
        "    cur.execute(\"SELECT * FROM C\" + iplus)\n",
        "    C_iplus = set(cur)\n",
        "    for c in C_iplus:       \n",
        "        # Get the \"attributes of c\"\n",
        "        Ci_dimIndexTuples = list() # ex: [('age', 1),('zip_code', 0)]\n",
        "        for a in range(len(c)-2):\n",
        "          if a%2 == 1 and c[a] != 'null':\n",
        "            Ci_dimIndexTuples.append((c[a],c[a+1])) \n",
        "\n",
        "        # If the dim-indices of this node of C make a combination that doesn't exist in S tupple subsets, delete node.\n",
        "        for anysubset in subsets(Ci_dimIndexTuples, I):\n",
        "            if anysubset not in Si_subsets:\n",
        "                cur.execute(\"DELETE FROM C\" + iplus + \" WHERE C\" + iplus + \".ID = \" + str(c[0]))\n",
        "\n",
        "\n",
        "    # edge generation... Exactly the same as paper's text\n",
        "    cur.execute(\"CREATE TABLE IF NOT EXISTS E\" + iplus + \" (start INT, end INT)\")\n",
        "    # cur.execute(\"PRAGMA table_info(E\" + iplus + \")\")\n",
        "    # Ecols_Graph = list(cur)\n",
        "    # for info in Ecols_Graph:\n",
        "    #   print(\"info of E\",iplus,\": \", info)\n",
        "    cur.execute(\"INSERT INTO E\" + iplus + \" \"\n",
        "                \"WITH CandidatesEdges(start, end) AS (\"\n",
        "                   \"SELECT p.ID, q.ID \"\n",
        "                   \"FROM C\" + iplus + \" p,C\" + iplus + \" q,E\" + i + \" e,E\" + i + \" f \"\n",
        "                   \"WHERE (e.start = p.parent1 AND e.end = q.parent1 \"\n",
        "                   \"AND f.start = p.parent2 AND f.end = q.parent2) \"\n",
        "                   \"OR (e.start = p.parent1 AND e.end = q.parent1 \"\n",
        "                   \"AND p.parent2 = q.parent2) \"\n",
        "                   \"OR (e.start = p.parent2 AND e.end = q.parent2 \"\n",
        "                   \"AND p.parent1 = q.parent1) \"\n",
        "                   \") \"\n",
        "                   \"SELECT D.start, D.end \"\n",
        "                   \"FROM CandidatesEdges D \"\n",
        "                   \"EXCEPT \"\n",
        "                   \"SELECT D1.start, D2.end \"\n",
        "                   \"FROM CandidatesEdges D1, CandidatesEdges D2 \"\n",
        "                   \"WHERE D1.end = D2.start\")\n",
        "       \n",
        "    print(\"Done!\")"
      ],
      "metadata": {
        "id": "1g3kwn6_j-qu"
      },
      "execution_count": null,
      "outputs": []
    },
    {
      "cell_type": "markdown",
      "source": [
        "#Step 3 : Output Calculation\n",
        "\n",
        "Projection of attributes of Sn onto T and dimension tables"
      ],
      "metadata": {
        "id": "Wv2fDRyEGbCt"
      }
    },
    {
      "cell_type": "code",
      "source": [
        "def projection(Sn):\n",
        "\n",
        "    # Find the lowest node to anonymize the table with:\n",
        "    selected_node = Sn[0]\n",
        "    selected_height = node_height(selected_node)\n",
        "    for node in Sn:\n",
        "        height = node_height(node)\n",
        "        if height < selected_height:\n",
        "            selected_height = height\n",
        "            selected_node = node #this node is less generalized than others in Sn\n",
        "    # Get its dim ind tuples:\n",
        "    node_dims = list() # ex: {'age', 'zip_code'}\n",
        "    node_inds = list() # ex: [1, 0]\n",
        "    for i in range(len(selected_node)-2):\n",
        "      if i%2 == 1 and node[i] != 'null':\n",
        "        node_dims.append(selected_node[i])\n",
        "        node_inds.append(selected_node[i+1])\n",
        "        chosen = str(selected_node[i]) + \"(\" + str(selected_node[i+1]) + \") \"\n",
        "        print(\"Chosen anonymization level: \", chosen)\n",
        "\n",
        "    # Get dimension tables names:\n",
        "    genTable = list()\n",
        "    for node_dim in node_dims:\n",
        "        genTable.append(\"gen_of_\" + node_dim)\n",
        "\n",
        "    # Get table attributes Names, but put the generalization level after chosen attributes\n",
        "    # [\"gen_of_age.'1'\", \"gen_of_occupation.'2'\", \"gen_of_sex.'1'\"]\n",
        "    attributeNameAnon = attributeNamesSQL #copy of original attributes to change:\n",
        "    genTable_targetCol =list()\n",
        "    for i in range(len(attributeNameAnon)):\n",
        "        attributeNameAnon[i] = attributeNameAnon[i].split()[0]\n",
        "        if attributeNameAnon[i] in node_dims: #if we are considering this attribute of dataset:\n",
        "           genTable_str = \"gen_of_\"+node_dims[node_dims.index(attributeNameAnon[i])] \n",
        "           targetCol_str = str(node_inds[node_dims.index(attributeNameAnon[i])])\n",
        "           attributeNameAnon[i] = genTable_str + \".'\" + targetCol_str + \"' \"\n",
        "           genTable_targetCol.append(attributeNameAnon[i])\n",
        "\n",
        "    # get pairings for the SQL JOIN <<<HELP>>>\n",
        "    pairs = list()\n",
        "    for x, y in zip(node_dims, genTable):\n",
        "        pairs.append(x + \"=\" + y + \".'0'\")\n",
        "\n",
        "    # str_cond = \"\"\n",
        "    # for gen_item in range(len(genTable_targetCol)):\n",
        "    #   str_cond+= \" AND (\" + genTable_targetCol[gen_item] + \") IN\" +\\\n",
        "    #         \" (SELECT \" + genTable_targetCol[gen_item] + \" FROM \" + datasetName + \", \" + ', '.join(genTable) +\\\n",
        "    #         \" WHERE \" + 'AND '.join(pairs) + \"GROUP BY \" + genTable_targetCol[gen_item] + \" HAVING\"\\\n",
        "    #         \" COUNT(*) > \" + str(t) + \")\"\n",
        "\n",
        "    # cur.execute(\"SELECT DISTINCT \" + ', '.join(attributeNameAnon) + \" FROM \" + datasetName + \", \" + ', '.join(genTable) +\n",
        "    #         \" WHERE \" + 'AND '.join(pairs) + str_cond)\n",
        "\n",
        "    seestring = \"SELECT DISTINCT \" + ', '.join(attributeNameAnon) + \" FROM \" + datasetName + \", \" + ', '.join(genTable) +\\\n",
        "            \" WHERE \" + 'AND '.join(pairs) + \" AND (\" + ', '.join(genTable_targetCol) + \") IN\"\\\n",
        "            \" (SELECT \" + ', '.join(genTable_targetCol) + \" FROM \" + datasetName + \", \" + ', '.join(genTable) +\\\n",
        "            \" WHERE \" + 'AND '.join(pairs) + \"GROUP BY \" + ', '.join(genTable_targetCol) + \" HAVING\"\\\n",
        "            \" COUNT(*) > \" + str(t) + \")\" #retrun only those with frequency greater than threshold\n",
        "    cur.execute(seestring)\n",
        "\n",
        "    #To solve the problem of San pietro:\n",
        "    # select min(Id), distinct MailId, EmailAddress, Name\n",
        "    # from yourTableName\n",
        "    # group by MailId, EmailAddress, Name\n",
        "    \n",
        "    print(\"Writing k-anonymous table to /content/drive/My Drive/anonymized_\"+datasetName+\".csv\")\n",
        "    main_dir='/content/drive/My Drive/'\n",
        "    table_lst = list()\n",
        "    for rownum, row in enumerate(list(cur)):\n",
        "        if rownum==0:\n",
        "            col = list()\n",
        "            for xnum, x in enumerate(row):\n",
        "                col.append(attributeNames[xnum])\n",
        "        if rownum>=0:\n",
        "            row_lst_str = list()\n",
        "            for xnum, x in enumerate(row):\n",
        "                row_lst_str.append(x)\n",
        "            table_lst.append(row_lst_str)\n",
        "    anonymous = pd.DataFrame(table_lst, columns = col)\n",
        "    anonymous.to_csv(os.path.join(main_dir , \"anonymized_\"+datasetName+\".csv\"), index=None)\n"
      ],
      "metadata": {
        "id": "UPgR6koBrY0A"
      },
      "execution_count": null,
      "outputs": []
    },
    {
      "cell_type": "markdown",
      "source": [
        "#Step 4 : Implement the Basic Incognito (Figure 8)\n",
        "\n",
        "* Initialization is done in step 2-1\n",
        "\n",
        "* The first part demonstrated below, uses the functions in Step 2-2\n",
        "\n",
        "<figure>\n",
        "<center>\n",
        "<img src='https://i.ibb.co/7XqBtz7/Screenshot-2023-01-03-at-12-25-11.png' width=\"400\" \n",
        "     height=\"300\"/>\n",
        "<figcaption>Part 1</figcaption></center>\n",
        "</figure>\n",
        "\n",
        "* The second part is called from Step 2-3\n",
        "\n",
        "* The output is called from Step 3"
      ],
      "metadata": {
        "id": "V3zNkggeGgwX"
      }
    },
    {
      "cell_type": "code",
      "source": [
        "t1 = time.perf_counter()\n",
        "# From the text: Because of Property 3: subset, we start off iteration from the smaller subsets. Single attr first.\n",
        "marked = set() #IDs of the marked nodes. A node outside of Queue may look like: (5, 'age', 0, 'null', 'null')\n",
        "numQI = len(QILevels)\n",
        "initialization(QI_list, QILevels)\n",
        "queue = queue.PriorityQueue()\n",
        "\n",
        "#for i = 1 to n do:\n",
        "for i in range(1, numQI + 1):\n",
        "\n",
        "    #PART 1:\n",
        "    #Si = copy of Ci:\n",
        "    cur.execute(\"SELECT * FROM C\" + str(i))\n",
        "    Si = set(cur)\n",
        "\n",
        "\n",
        "    #{roots} = {all nodes ∈ Ci with no edge ∈ Ei directed to them}:\n",
        "    cur.execute(\"SELECT C\" + str(i) + \".* FROM C\" + str(i) + \", E\" + str(i) +\n",
        "                    \" WHERE C\" + str(i) + \".ID = E\" + str(i)+ \".Start\" +\n",
        "                    \" EXCEPT SELECT C\" + str(i) + \".* FROM C\" + str(i) + \", E\" + str(i) +\n",
        "                    \" WHERE C\" + str(i) + \".ID = E\" + str(i) + \".End \")\n",
        "    roots = set(cur) #The tuples set\n",
        "\n",
        "    #Insert {roots} into queue, keeping queue sorted by height: \"Step3-1 > node_height\"\n",
        "    roots_priority_set = set()\n",
        "    for node in roots:\n",
        "        height = node_height(node)\n",
        "        priority_number = -height #the priority is the opposite of height (highset is the first)\n",
        "        roots_priority_set.add((priority_number, node))\n",
        "    for priority_node in roots_priority_set:\n",
        "        queue.put(priority_node, block = False) #A tuple\n",
        "\n",
        "    #while queue is not empty do:\n",
        "    while not queue.empty():\n",
        "        # node = Remove first item from queue:\n",
        "        node = queue.get(block = False)[1] #data of node with the most height, is taken\n",
        "        #if node is not marked then:\n",
        "        if node[0] not in marked:\n",
        "            #if node is a root then:\n",
        "            if node in roots: #(7, 'city_birth', 0, 'null', 'null')\n",
        "                #frequencySet = Compute frequency set of T with respect to attributes of node using T.\n",
        "                frequency_set = freq_set_root(node)\n",
        "            else:\n",
        "                #frequencySet = Compute frequency set of T with respect to attributes of node using parent’s frequency set.\n",
        "                frequency_set = freq_set_nonroot(node)\n",
        "            \n",
        "            #get direct generalizations of node for later use:\n",
        "            cur.execute(\"SELECT E\" + str(i) + \".end FROM C\" + str(i) + \", E\" + str(i) +\n",
        "                        \" WHERE ID = E\" + str(i) +\n",
        "                        \".start and ID = \" + str(node[0]))\n",
        "            dir_gens_IDs = list(cur)\n",
        "            # if T is k-anonymous with respect to attributes of node then\n",
        "            if kAnonymity_wrt_node_attr(frequency_set):   \n",
        "                #Mark all direct generalizations of node:\n",
        "                marked.add(node[0]) #self\n",
        "                for dir_gen in dir_gens_IDs:\n",
        "                    childIDtoIgnore = dir_gen[0]\n",
        "                    marked.add(childIDtoIgnore)\n",
        "                #print(marked)\n",
        "            else: #(not k anonymous, we have to refine Si which was a copy of Ci):\n",
        "                #Delete node from Si:\n",
        "                Si.remove(node)\n",
        "                #Insert direct generalizations of node into queue, keeping queue ordered by height:\n",
        "                Si_indices = set()\n",
        "                for node in Si:\n",
        "                    Si_indices.add(node[0])\n",
        "                for dir_gen in dir_gens_IDs:\n",
        "                    childIDtoInspect = dir_gen[0]\n",
        "                    if childIDtoInspect not in Si_indices:\n",
        "                        continue\n",
        "                    cur.execute(\"SELECT * FROM C\" + str(i) + \" WHERE ID = \" + str(childIDtoInspect))\n",
        "                    for childNode in list(cur):\n",
        "                        childHeight = node_height(childNode)\n",
        "                        childPriority_number = -height #the priority is the opposite of height (highset is the first)\n",
        "                        queue.put((childPriority_number, childNode), block = False) #A tuple\n",
        "\n",
        "                cur.execute(\"DELETE FROM C\" + str(i) + \" WHERE ID = \" + str(node[0]))\n",
        "\n",
        "\n",
        "    #PART 2:\n",
        "    # Ci+1,Ei+1 = GraphGeneration(Si, Ei):\n",
        "    graph_generation(Si, i)\n",
        "\n",
        "    marked = set()\n",
        "\n",
        "#return Projection of attributes of Sn onto T and dimension tables\n",
        "Sn = list(cur.execute(\"SELECT * FROM S\" + str(numQI))) #get Sn\n",
        "projection(Sn)\n",
        "\n",
        "t2 = time.perf_counter()\n",
        "print('time taken to run Basic Incognito:',t2-t1)"
      ],
      "metadata": {
        "colab": {
          "base_uri": "https://localhost:8080/"
        },
        "id": "Wy8HgIhplWZo",
        "outputId": "e6b638f0-843f-4e1c-e17f-f3002a387ca9"
      },
      "execution_count": null,
      "outputs": [
        {
          "output_type": "stream",
          "name": "stdout",
          "text": [
            "The graph (C and Edges) with nodes of 1 QI is being generated using SQL tables...\n",
            "Done!\n",
            "[(1, 'age', 0, 'null', 'null'), (2, 'age', 1, 1, 'null'), (3, 'age', 2, 2, 'null'), (4, 'age', 3, 3, 'null'), (5, 'occupation', 0, 'null', 'null'), (6, 'occupation', 1, 5, 'null'), (7, 'occupation', 2, 6, 'null'), (8, 'race', 0, 'null', 'null'), (9, 'race', 1, 8, 'null')]\n",
            "[(1, 2), (2, 3), (3, 4), (5, 6), (6, 7), (8, 9)]\n",
            "The graph (C and Edges) with nodes of  2  QIs is being generated using SQL tables...\n",
            "Done!\n",
            "The graph (C and Edges) with nodes of  3  QIs is being generated using SQL tables...\n",
            "Done!\n",
            "Chosen anonymization level:  age(2) \n",
            "Chosen anonymization level:  occupation(1) \n",
            "Chosen anonymization level:  race(1) \n",
            "Writing k-anonymous table to /content/drive/My Drive/anonymized_adults.csv\n",
            "time taken to run Basic Incognito: 1.7811884770000006\n"
          ]
        }
      ]
    },
    {
      "cell_type": "markdown",
      "source": [
        "# Step 5 : Validation\n",
        "\n",
        "The output Anonymized dataset is read again from the drive and forms a SQL table to count the similar (w.r.t the specified Quasi identifiers) records. In case the frequency of any unique tuple is less than K, it reports the error.\n",
        "\n",
        "It also prints out the size of Anonymized dataset to check if the threshold has caused any elimination of outliers.\n"
      ],
      "metadata": {
        "id": "Bp2zeYCHH2bB"
      }
    },
    {
      "cell_type": "code",
      "source": [
        "def validate (anon_dataset, anon_attributeNames):\n",
        "    print(\"Size of original dataset: \", dataset.shape)\n",
        "    print(\"Size of anonymized dataset: \", anon_dataset.shape)\n",
        "    QI_anon_list = list()\n",
        "    for QI_anon in anon_attributeNames:\n",
        "        if QI_anon in QI_list:\n",
        "            QI_anon_list.append(QI_anon)\n",
        "        else:\n",
        "            del anon_dataset[QI_anon]\n",
        "    #print(QI_anon_list)\n",
        "\n",
        "    freq_anon = anon_dataset.value_counts()\n",
        "    count_faults = 0\n",
        "    for rownum,(indx,val) in enumerate(freq_anon.iteritems()):\n",
        "        #print('row number: ', rownum, 'index: ', indx, 'value: ', val)\n",
        "        #ex: row number:  941 index:  ('44', 'Italy', '7****') value:  13\n",
        "        if val < k:\n",
        "          count_faults += 1\n",
        "          print(indx, val)\n",
        "    print(count_faults, \" errors\")"
      ],
      "metadata": {
        "id": "Og1IGDEnmq4u"
      },
      "execution_count": null,
      "outputs": []
    },
    {
      "cell_type": "code",
      "source": [
        "# Read anonymized dataset and attributes\n",
        "anon_datasetPath= \"/content/drive/MyDrive/\"+\"anonymized_\"+datasetName+\".csv\"\n",
        "\n",
        "anon_dataset_file = open(anon_datasetPath)\n",
        "anon_datasetName = path.basename(anon_datasetPath).split(\".\")[0]\n",
        "\n",
        "attributeList = anon_dataset_file.readline().split(\",\")\n",
        "anon_attributeNames = [a.strip() for a in attributeList]\n",
        "\n",
        "anon_attributeNamesSQL = [a.strip()+ \" TEXT\" for a in anon_attributeNames]\n",
        "print(anon_attributeNamesSQL)\n",
        "\n",
        "anon_dataset = pd.read_csv(anon_datasetPath, sep=',')\n",
        "anon_dataset = anon_dataset.astype(str)\n",
        "\n",
        "anon_dataset.to_sql(anon_datasetName, con, if_exists='append', index = False)\n",
        "\n",
        "validate (anon_dataset, anon_attributeNames)"
      ],
      "metadata": {
        "colab": {
          "base_uri": "https://localhost:8080/"
        },
        "id": "J4980inbD4rc",
        "outputId": "78fc075d-e6f3-42ff-a332-8753281c4222"
      },
      "execution_count": null,
      "outputs": [
        {
          "output_type": "stream",
          "name": "stdout",
          "text": [
            "['age TEXT', 'workclass TEXT', 'fnlwgt TEXT', 'education TEXT', 'education_num TEXT', 'marital_status TEXT', 'occupation TEXT', 'relationship TEXT', 'race TEXT', 'sex TEXT', 'capital_gain TEXT', 'capital_loss TEXT', 'hours_per_week TEXT', 'native_country TEXT', 'label TEXT']\n",
            "Size of original dataset:  (32561, 15)\n",
            "Size of anonymized dataset:  (32459, 15)\n",
            "0  errors\n"
          ]
        }
      ]
    },
    {
      "cell_type": "markdown",
      "source": [
        "# Step 6 : Experiments\n",
        "\n",
        "Some of the outputs of Experiments, namely, the anonymized tables with different parameters as input, are provided in the repository."
      ],
      "metadata": {
        "id": "OVJtrN9XJDXs"
      }
    },
    {
      "cell_type": "markdown",
      "source": [
        "## Step 6-1\n",
        "\n",
        "The Algorithm is tested for db_50000, T=0, QI=3, 8 values for K and has resulted in the below values and Chart"
      ],
      "metadata": {
        "id": "zgCzuqtWJrSp"
      }
    },
    {
      "cell_type": "code",
      "source": [
        "K= [2,4,6,8,10,12,14,16]\n",
        "selected_levels = [(1,2,5), (1,2,5), (1,2,5), (1,2,5), (1,2,5), (1,2,5), (1,2,5), (1,2,5)]\n",
        "Time= [51.129866667, 47.10335798, 45.55694226999999, 44.625372146000004, 38.442761291000004, 25.209464654, 24.135795184000003, 24.00578066999999]\n",
        "\n",
        "# Plot lists 'x' and 'y'\n",
        "plt.plot(K, Time)\n",
        "\n",
        "# Plot axes labels and show the plot\n",
        "plt.xlabel('K')\n",
        "plt.ylabel('Time(seconds)')\n",
        "plt.show()\n"
      ],
      "metadata": {
        "colab": {
          "base_uri": "https://localhost:8080/",
          "height": 278
        },
        "id": "kW2ljPo617cK",
        "outputId": "8aa446e0-8087-4f5f-8ceb-88845eda052f"
      },
      "execution_count": null,
      "outputs": [
        {
          "output_type": "display_data",
          "data": {
            "text/plain": [
              "<Figure size 432x288 with 1 Axes>"
            ],
            "image/png": "[encoded data removed]"
          },
          "metadata": {
            "needs_background": "light"
          }
        }
      ]
    },
    {
      "cell_type": "markdown",
      "source": [
        "## Step 6-2\n",
        "\n",
        "The algorithm is tested for db_100000, T=0, QI=3, 8 values for K and has resulted in the below values and Chart"
      ],
      "metadata": {
        "id": "lPIiQMx5V_p0"
      }
    },
    {
      "cell_type": "code",
      "source": [
        "K= [3, 6, 9, 12, 15, 18, 21, 24, 27, 30]\n",
        "Time= [193.73777396800006, 160.09724564800013, 127.29233054300005, 126.709588682, 109.545261928, 101.79596704600002, 138.592935393, 137.624862378, 145.8872092219999, 146.95097781200002]\n",
        "\n",
        "# Plot lists 'x' and 'y'\n",
        "plt.plot(K, [t/60 for t in Time])\n",
        "ax=plt.gca()\n",
        "ax.locator_params('x', nbins=len(K))\n",
        "plt.xticks(np.arange(min(K), max(K)+1, 3))\n",
        "# Plot axes labels and show the plot\n",
        "plt.xlabel('K')\n",
        "plt.ylabel('Time(minutes)')\n",
        "plt.show()"
      ],
      "metadata": {
        "id": "9fSt8TMyKiw3",
        "colab": {
          "base_uri": "https://localhost:8080/",
          "height": 278
        },
        "outputId": "f3d920cd-71b9-42a0-9dfb-bd7e1f748889"
      },
      "execution_count": null,
      "outputs": [
        {
          "output_type": "display_data",
          "data": {
            "text/plain": [
              "<Figure size 432x288 with 1 Axes>"
            ],
            "image/png": "[encoded data removed]"
          },
          "metadata": {
            "needs_background": "light"
          }
        }
      ]
    },
    {
      "cell_type": "markdown",
      "source": [
        "## Step 6-3\n",
        "\n",
        "The algorithm is tested for Adults, T=1, QI=3 [age,occupation,race] with 10 values for K, and has resulted the below values and chart."
      ],
      "metadata": {
        "id": "ry7OQtBQKH1e"
      }
    },
    {
      "cell_type": "code",
      "source": [
        "K= [3, 6, 9, 12, 15, 18, 21, 24, 27, 30]\n",
        "selected_levels = [(0,2,1), (1,2,1), (2,2,1), (2,2,1), (2,2,1), (2,2,1), (2,2,1), (2,2,1), (2,2,1), (2,2,1)]\n",
        "Time= [3.7972470991190206, 3.5473701590009253, 3.4030999000816021, 3.3805389914096841, 3.2478894130000526, 3.2274009183835964, 2.9577501514017647, 2.2341403838349064, 2.5775057750439489, 3.1043998239999894]\n",
        "\n",
        "# Plot lists 'x' and 'y'\n",
        "plt.plot(K, Time)\n",
        "plt.xticks(np.arange(min(K), max(K)+1, 3))\n",
        "\n",
        "# Plot axes labels and show the plot\n",
        "plt.xlabel('K')\n",
        "plt.ylabel('Time(seconds)')\n",
        "plt.show()"
      ],
      "metadata": {
        "colab": {
          "base_uri": "https://localhost:8080/",
          "height": 278
        },
        "id": "cDJMoSkoJeMO",
        "outputId": "1a1203e6-aeb9-459b-a516-a7234558ae09"
      },
      "execution_count": null,
      "outputs": [
        {
          "output_type": "display_data",
          "data": {
            "text/plain": [
              "<Figure size 432x288 with 1 Axes>"
            ],
            "image/png": "[encoded data removed]"
          },
          "metadata": {
            "needs_background": "light"
          }
        }
      ]
    },
    {
      "cell_type": "markdown",
      "source": [
        "## Step 6-4\n",
        "\n",
        "The algorithm is tested for Adults, K=3,T=1 and K=9,T=3\n",
        "\n",
        "with QI subsets of size 2,3,4,5,6 from set [age, occupation, race, sex, native_country, marital_status]\n",
        "\n",
        "and has resulted the below values and chart."
      ],
      "metadata": {
        "id": "HOlhhUWtYDsB"
      }
    },
    {
      "cell_type": "code",
      "source": [
        "QI= [2,3,4,5,6]\n",
        "Time_9= [1.0514069999999833, 1.2799146579999956 ,3.520381200999992 ,66.348663548 ,872.401814215]\n",
        "#selected_levels = [2, 1, 1, 1, 1, 1]\n",
        "\n",
        "Time_3= [1.1867007230000013, 3.351826609999989, 35.581710586999975, 484.5678140949999, 3060.34522177999999] #12705.753914114\n",
        "#selected_levels = [0, 2, 1, 1, 1, 0]\n",
        "\n",
        "original_dropped_9 = [32562-32459, 32562-32459, 32562-32459, 32562-32455, 32562-32450]\n",
        "original_dropped_3 = [32562-32495, 32562-32495, 32562-32495, 32562-32493, 32562-32489]\n",
        "\n",
        "plt.clf()\n",
        "plt.plot(QI,[t/60 for t in Time_9],\"-b\", label = \"K = 9, T = 3\")\n",
        "plt.plot(QI,[t/60 for t in Time_3],'-r', label = \"K = 3, T = 1\")\n",
        "# zip joins x and y coordinates in pairs\n",
        "for x,y,z in zip(QI,[t/60 for t in Time_9],original_dropped_9):\n",
        "    label = \"{:d}\".format(z)\n",
        "    plt.annotate(label, # this is the text\n",
        "                 (x,y), # these are the coordinates to position the label\n",
        "                 textcoords=\"offset points\", # how to position the text\n",
        "                 xytext=(4,-9), # distance from text to points (x,y)\n",
        "                 ha='center') # horizontal alignment can be left, right or center\n",
        "\n",
        "for x,y,z in zip(QI,[t/60 for t in Time_3],original_dropped_3):\n",
        "    label = \"{:d}\".format(z)\n",
        "    plt.annotate(label, # this is the text\n",
        "                 (x,y), # these are the coordinates to position the label\n",
        "                 textcoords=\"offset points\", # how to position the text\n",
        "                 xytext=(-4,5), # distance from text to points (x,y)\n",
        "                 ha='center') # horizontal alignment can be left, right or center\n",
        "\n",
        "# Plot axes labels and show the plot\n",
        "#plt.text(x-0.4,y-0.3, \"K=9\", color='red', fontsize=10)\n",
        "ax=plt.gca()\n",
        "ax.locator_params('y', nbins=20)\n",
        "ax.locator_params('x', nbins=len(QI))\n",
        "plt.legend(loc=\"upper left\")\n",
        "plt.xlabel('QI')\n",
        "plt.ylabel('Time(minutes)')\n",
        "plt.show()"
      ],
      "metadata": {
        "colab": {
          "base_uri": "https://localhost:8080/",
          "height": 281
        },
        "id": "g6Ya_lE8VUWf",
        "outputId": "c29c52f5-5cd1-4ec8-86d4-f44a075bf343"
      },
      "execution_count": null,
      "outputs": [
        {
          "output_type": "display_data",
          "data": {
            "text/plain": [
              "<Figure size 432x288 with 1 Axes>"
            ],
            "image/png": "[encoded data removed]"
          },
          "metadata": {
            "needs_background": "light"
          }
        }
      ]
    },
    {
      "cell_type": "code",
      "source": [],
      "metadata": {
        "id": "XKXMeoI8SkCN"
      },
      "execution_count": null,
      "outputs": []
    }
  ]
}